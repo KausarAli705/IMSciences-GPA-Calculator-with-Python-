{
 "cells": [
  {
   "cell_type": "code",
   "execution_count": 6,
   "metadata": {},
   "outputs": [
    {
     "name": "stdout",
     "output_type": "stream",
     "text": [
      "how many subjects do you have in this semester: 5\n",
      "\n",
      "================================================\n",
      "For class #  1\n",
      "Enter the credit hrs for subject : 3\n",
      "Enter the marks for subject : 87\n",
      "================================================\n",
      "\n",
      "================================================\n",
      "For class #  2\n",
      "Enter the credit hrs for subject : 3\n",
      "Enter the marks for subject : 89\n",
      "================================================\n",
      "\n",
      "================================================\n",
      "For class #  3\n",
      "Enter the credit hrs for subject : 3\n",
      "Enter the marks for subject : 80\n",
      "================================================\n",
      "\n",
      "================================================\n",
      "For class #  4\n",
      "Enter the credit hrs for subject : 3\n",
      "Enter the marks for subject : 89\n",
      "================================================\n",
      "\n",
      "================================================\n",
      "For class #  5\n",
      "Enter the credit hrs for subject : 3\n",
      "Enter the marks for subject : 87\n",
      "================================================\n",
      "Your GPA is : 3.9\n",
      "*********************************end*****************************************\n"
     ]
    }
   ],
   "source": [
    "class GpaCalculator():\n",
    "    total=0\n",
    "    totalhours=0\n",
    "    hrs=0\n",
    "    numberofclasses=int(input(\"how many subjects do you have in this semester: \"))\n",
    "    count=0\n",
    "    for count in range(count, numberofclasses):\n",
    "        print()\n",
    "        print(\"================================================\")\n",
    "        # //This is to keep track of the number of classes (Optional)\n",
    "        print(\"For class # \", count+1)\n",
    "\n",
    "        #  '''Prompt user for number of number of credit hours per class'''\n",
    "        hrs = int(input(\"Enter the credit hrs for subject : \"))\n",
    "\n",
    "        # '''Prompt user to enter the letter grade'''\n",
    "        grade = int(input(\"Enter the marks for subject : \"))\n",
    "    \n",
    "        print(\"================================================\")\n",
    "\n",
    "        if grade >=87:\n",
    "            totalPoints = totalPoints + (hrs * 4)\n",
    "            totalhours = totalhours + hrs\n",
    "        elif grade >=80:\n",
    "            totalPoints += (hrs * 3.5)\n",
    "            totalhours += hrs\n",
    "        elif grade >=72:\n",
    "            totalPoints += (hrs * 3.0)\n",
    "            totalhours += hrs\n",
    "        elif grade >=66:\n",
    "            totalPoints += (hrs * 2.5)\n",
    "            totalhours += hrs\n",
    "        elif grade >=60:\n",
    "            totalPoints += (hrs * 2.0)\n",
    "            totalhours += hrs\n",
    "        else:\n",
    "            totalPoints += (hrs * 0.0)\n",
    "            totalhours += hrs    \n",
    "    gpa = totalPoints / totalhours\n",
    "    print(\"Your GPA is :\", gpa)    \n",
    "    print(\"*********************************end*****************************************\")\n",
    "\n",
    "\n",
    "def main():\n",
    "    gpa = GpaCalculator()\n",
    "\n",
    "if __name__ == '__main__':main()"
   ]
  },
  {
   "cell_type": "markdown",
   "metadata": {},
   "source": [
    "3\n",
    "3\n",
    "3### "
   ]
  }
 ],
 "metadata": {
  "kernelspec": {
   "display_name": "Python 3",
   "language": "python",
   "name": "python3"
  },
  "language_info": {
   "codemirror_mode": {
    "name": "ipython",
    "version": 3
   },
   "file_extension": ".py",
   "mimetype": "text/x-python",
   "name": "python",
   "nbconvert_exporter": "python",
   "pygments_lexer": "ipython3",
   "version": "3.7.4"
  }
 },
 "nbformat": 4,
 "nbformat_minor": 2
}
